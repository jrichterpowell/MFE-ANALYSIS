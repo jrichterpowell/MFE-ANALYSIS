{
 "cells": [
  {
   "cell_type": "markdown",
   "metadata": {},
   "source": [
    "### Loading Data\n",
    "We load the UofT dataset since it is the most complete dataset from last year"
   ]
  },
  {
   "cell_type": "code",
   "execution_count": 1,
   "metadata": {},
   "outputs": [
    {
     "data": {
      "text/html": [
       "        <script type=\"text/javascript\">\n",
       "        window.PlotlyConfig = {MathJaxConfig: 'local'};\n",
       "        if (window.MathJax) {MathJax.Hub.Config({SVG: {font: \"STIX-Web\"}});}\n",
       "        if (typeof require !== 'undefined') {\n",
       "        require.undef(\"plotly\");\n",
       "        requirejs.config({\n",
       "            paths: {\n",
       "                'plotly': ['https://cdn.plot.ly/plotly-latest.min']\n",
       "            }\n",
       "        });\n",
       "        require(['plotly'], function(Plotly) {\n",
       "            window._Plotly = Plotly;\n",
       "        });\n",
       "        }\n",
       "        </script>\n",
       "        "
      ]
     },
     "metadata": {},
     "output_type": "display_data"
    }
   ],
   "source": [
    "import pandas as pd\n",
    "import numpy as np\n",
    "import plotly\n",
    "import plotly.plotly as py\n",
    "import plotly.graph_objs as go\n",
    "from helpers.processing import *\n",
    "import glob\n",
    "plotly.offline.init_notebook_mode(connected=True)"
   ]
  },
  {
   "cell_type": "code",
   "execution_count": 2,
   "metadata": {},
   "outputs": [],
   "source": [
    "dfs = []\n",
    "for f in glob.glob(\"../Data.nosync/CSVs/UofT/*.csv\"): #loads every csv into the list as a pd dataframe\n",
    "    df = remove_stopped(pd.read_csv(f, header=12, low_memory=False)[1:], 10, 10, 0.002) #remove ticks where car is stopped\n",
    "    df = smooth_points(df.astype(float), 5) #average every 5 samples to reduce memory load (tickrate 0.002 -> 0.01)\n",
    "    dfs.append(df)"
   ]
  },
  {
   "cell_type": "markdown",
   "metadata": {},
   "source": [
    "### Graphing\n",
    "By graphing the acceleration against the brake pressure we can evaluate the brake performance thoughout the runs. We cut off samples with speed below 50 to reduce visual clutter."
   ]
  },
  {
   "cell_type": "code",
   "execution_count": 13,
   "metadata": {
    "scrolled": true
   },
   "outputs": [
    {
     "data": {
      "text/html": [
       "<div>\n",
       "<style scoped>\n",
       "    .dataframe tbody tr th:only-of-type {\n",
       "        vertical-align: middle;\n",
       "    }\n",
       "\n",
       "    .dataframe tbody tr th {\n",
       "        vertical-align: top;\n",
       "    }\n",
       "\n",
       "    .dataframe thead th {\n",
       "        text-align: right;\n",
       "    }\n",
       "</style>\n",
       "<table border=\"1\" class=\"dataframe\">\n",
       "  <thead>\n",
       "    <tr style=\"text-align: right;\">\n",
       "      <th></th>\n",
       "      <th>Time</th>\n",
       "      <th>Distance</th>\n",
       "      <th>Wheel Speed FL</th>\n",
       "      <th>Wheel Speed FR</th>\n",
       "      <th>Wheel Speed RL</th>\n",
       "      <th>Wheel Speed RR</th>\n",
       "      <th>Susp Pos FL</th>\n",
       "      <th>Susp Pos FR</th>\n",
       "      <th>Susp Pos RL</th>\n",
       "      <th>Susp Pos RR</th>\n",
       "      <th>...</th>\n",
       "      <th>VC_TORQUE_COMMAND</th>\n",
       "      <th>Battery Pack Voltage</th>\n",
       "      <th>Battery Pack Current</th>\n",
       "      <th>Battery Fan</th>\n",
       "      <th>Radiator Fan</th>\n",
       "      <th>BMS STATUS</th>\n",
       "      <th>Data Validity Status Flag</th>\n",
       "      <th>x</th>\n",
       "      <th>y</th>\n",
       "      <th>close</th>\n",
       "    </tr>\n",
       "  </thead>\n",
       "  <tbody>\n",
       "    <tr>\n",
       "      <th>500</th>\n",
       "      <td>5.003</td>\n",
       "      <td>4.0</td>\n",
       "      <td>12.50</td>\n",
       "      <td>13.30</td>\n",
       "      <td>0.5</td>\n",
       "      <td>13.225</td>\n",
       "      <td>-3.485</td>\n",
       "      <td>-58.475</td>\n",
       "      <td>-2.8025</td>\n",
       "      <td>-8.930</td>\n",
       "      <td>...</td>\n",
       "      <td>0.0</td>\n",
       "      <td>291.620</td>\n",
       "      <td>-12.115</td>\n",
       "      <td>0.0</td>\n",
       "      <td>0.0</td>\n",
       "      <td>0.0</td>\n",
       "      <td>0.0</td>\n",
       "      <td>0.573427</td>\n",
       "      <td>0.871359</td>\n",
       "      <td>-1</td>\n",
       "    </tr>\n",
       "    <tr>\n",
       "      <th>501</th>\n",
       "      <td>5.012</td>\n",
       "      <td>4.0</td>\n",
       "      <td>12.52</td>\n",
       "      <td>13.48</td>\n",
       "      <td>0.5</td>\n",
       "      <td>13.480</td>\n",
       "      <td>-3.448</td>\n",
       "      <td>-58.990</td>\n",
       "      <td>-2.3060</td>\n",
       "      <td>-8.894</td>\n",
       "      <td>...</td>\n",
       "      <td>0.0</td>\n",
       "      <td>291.620</td>\n",
       "      <td>-12.104</td>\n",
       "      <td>0.0</td>\n",
       "      <td>0.0</td>\n",
       "      <td>0.0</td>\n",
       "      <td>0.0</td>\n",
       "      <td>0.573427</td>\n",
       "      <td>0.871359</td>\n",
       "      <td>-1</td>\n",
       "    </tr>\n",
       "    <tr>\n",
       "      <th>502</th>\n",
       "      <td>5.022</td>\n",
       "      <td>4.0</td>\n",
       "      <td>12.60</td>\n",
       "      <td>13.14</td>\n",
       "      <td>0.5</td>\n",
       "      <td>13.400</td>\n",
       "      <td>-3.416</td>\n",
       "      <td>-59.008</td>\n",
       "      <td>-2.0260</td>\n",
       "      <td>-8.918</td>\n",
       "      <td>...</td>\n",
       "      <td>0.0</td>\n",
       "      <td>291.612</td>\n",
       "      <td>-12.116</td>\n",
       "      <td>0.0</td>\n",
       "      <td>0.0</td>\n",
       "      <td>0.0</td>\n",
       "      <td>0.0</td>\n",
       "      <td>0.573427</td>\n",
       "      <td>0.871359</td>\n",
       "      <td>-1</td>\n",
       "    </tr>\n",
       "  </tbody>\n",
       "</table>\n",
       "<p>3 rows × 230 columns</p>\n",
       "</div>"
      ],
      "text/plain": [
       "      Time  Distance  Wheel Speed FL  Wheel Speed FR  Wheel Speed RL  \\\n",
       "500  5.003       4.0           12.50           13.30             0.5   \n",
       "501  5.012       4.0           12.52           13.48             0.5   \n",
       "502  5.022       4.0           12.60           13.14             0.5   \n",
       "\n",
       "     Wheel Speed RR  Susp Pos FL  Susp Pos FR  Susp Pos RL  Susp Pos RR  \\\n",
       "500          13.225       -3.485      -58.475      -2.8025       -8.930   \n",
       "501          13.480       -3.448      -58.990      -2.3060       -8.894   \n",
       "502          13.400       -3.416      -59.008      -2.0260       -8.918   \n",
       "\n",
       "     ...    VC_TORQUE_COMMAND  Battery Pack Voltage  Battery Pack Current  \\\n",
       "500  ...                  0.0               291.620               -12.115   \n",
       "501  ...                  0.0               291.620               -12.104   \n",
       "502  ...                  0.0               291.612               -12.116   \n",
       "\n",
       "     Battery Fan  Radiator Fan  BMS STATUS  Data Validity Status Flag  \\\n",
       "500          0.0           0.0         0.0                        0.0   \n",
       "501          0.0           0.0         0.0                        0.0   \n",
       "502          0.0           0.0         0.0                        0.0   \n",
       "\n",
       "            x         y  close  \n",
       "500  0.573427  0.871359     -1  \n",
       "501  0.573427  0.871359     -1  \n",
       "502  0.573427  0.871359     -1  \n",
       "\n",
       "[3 rows x 230 columns]"
      ]
     },
     "execution_count": 13,
     "metadata": {},
     "output_type": "execute_result"
    }
   ],
   "source": [
    "dfs[0].head(3) #Sanity Check - If the first three rows are correct, it follows by undergraduate induction that everything is fine."
   ]
  },
  {
   "cell_type": "markdown",
   "metadata": {},
   "source": [
    "We can then plot the acceleration (negative in this case), against the brake pressure, with color representing the ground speed. Use the dropdown to select which run the data is from."
   ]
  },
  {
   "cell_type": "code",
   "execution_count": 14,
   "metadata": {
    "scrolled": false
   },
   "outputs": [
    {
     "name": "stderr",
     "output_type": "stream",
     "text": [
      "/Library/Frameworks/Python.framework/Versions/3.7/lib/python3.7/site-packages/plotly/offline/offline.py:524: UserWarning:\n",
      "\n",
      "Your filename `JupyterUno` didn't end with .html. Adding .html to the end of your file.\n",
      "\n"
     ]
    },
    {
     "data": {
      "text/plain": [
       "'JupyterUno.html'"
      ]
     },
     "execution_count": 14,
     "metadata": {},
     "output_type": "execute_result"
    }
   ],
   "source": [
    "plt_data = []\n",
    "for i in range(len(dfs)):\n",
    "    df = dfs[i].loc[(dfs[i]['Ground Speed'] > 50) &(dfs[i]['Brake Pres Front'] > 50)]\n",
    "    plt_data += [go.Scatter(\n",
    "        x=df['Brake Pres Front'], \n",
    "        y=df['Vehicle Accel Long'],\n",
    "        mode='markers',\n",
    "        marker=dict(color=df['Ground Speed'], colorscale='Viridis', showscale=True), \n",
    "        visible=(True if i == 0 else False))\n",
    "                ]\n",
    "\n",
    "menu = list([ dict(active=0, \n",
    "                   buttons=[ dict(label = 'Run ' + str(i+1), \n",
    "                                  method = 'update', \n",
    "                                  args = [{'visible': [False if j != i else True for j in range(len(dfs))]}, {'title': 'Run '+str(i +1) + ' Braking'}]) for i in range(len(dfs))]\n",
    "                  ) ])\n",
    "plt_layout = go.Layout(title='Brake Efficacy', \n",
    "                       yaxis=dict(title='Acceleration'), \n",
    "                       xaxis=dict(title='Brake Pressure'), \n",
    "                       updatemenus=menu)\n",
    "\n",
    "fig = go.Figure(data=plt_data, layout=plt_layout)\n",
    "\n",
    "plotly.offline.plot(fig,filename='JupyterUno')"
   ]
  },
  {
   "cell_type": "markdown",
   "metadata": {},
   "source": [
    "### Full Pressure\n",
    "You might notice that little line on the right hand side of the graph for each run. Those are, of course, the points where we apply maximal brake pressure. Let's have a closer look."
   ]
  },
  {
   "cell_type": "code",
   "execution_count": 15,
   "metadata": {},
   "outputs": [
    {
     "name": "stderr",
     "output_type": "stream",
     "text": [
      "/Library/Frameworks/Python.framework/Versions/3.7/lib/python3.7/site-packages/plotly/offline/offline.py:524: UserWarning:\n",
      "\n",
      "Your filename `JupyterDos` didn't end with .html. Adding .html to the end of your file.\n",
      "\n"
     ]
    },
    {
     "data": {
      "text/plain": [
       "'JupyterDos.html'"
      ]
     },
     "execution_count": 15,
     "metadata": {},
     "output_type": "execute_result"
    }
   ],
   "source": [
    "plt_data = []\n",
    "for i in range(len(dfs)):\n",
    "    df = dfs[i].loc[(dfs[i]['Brake Pres Front'] > 179)]\n",
    "    df = df.groupby(df['Ground Speed'] // 25).mean() #group the dataframe into splits of 25 km\n",
    "    df['decel'] = df['Vehicle Accel Long'] * -1\n",
    "    plt_data += [go.Bar(x= ['25','50','75','100','125','150','175','200'], y=df['decel'], name='Run ' + str(i+1))]\n",
    "\n",
    "plt_layout = go.Layout(title='Brake Efficacy', yaxis=dict(title='Deceleration'), xaxis=dict(title='Ground Speed'))\n",
    "fig = go.Figure(data=plt_data, layout=plt_layout)\n",
    "plotly.offline.plot(fig,filename='JupyterDos')"
   ]
  },
  {
   "cell_type": "markdown",
   "metadata": {},
   "source": [
    "Again, this is only looking at total braking performance (i.e. when the pedal is fully pressed). We can render the same graph from the earlier data as well."
   ]
  },
  {
   "cell_type": "code",
   "execution_count": 16,
   "metadata": {},
   "outputs": [
    {
     "name": "stderr",
     "output_type": "stream",
     "text": [
      "/Library/Frameworks/Python.framework/Versions/3.7/lib/python3.7/site-packages/plotly/offline/offline.py:524: UserWarning:\n",
      "\n",
      "Your filename `JupyterTres` didn't end with .html. Adding .html to the end of your file.\n",
      "\n"
     ]
    },
    {
     "data": {
      "text/plain": [
       "'JupyterTres.html'"
      ]
     },
     "execution_count": 16,
     "metadata": {},
     "output_type": "execute_result"
    }
   ],
   "source": [
    "plt_data = []\n",
    "for i in range(len(dfs)):\n",
    "    df = dfs[i].loc[(dfs[i]['Brake Pres Front'] > 50)]\n",
    "    df = df.groupby(df['Ground Speed'] // 25).mean() #group the dataframe into splits of 25 km\n",
    "    df['decel'] = df['Vehicle Accel Long'] * -1\n",
    "    plt_data += [go.Bar(x= ['25','50','75','100','125','150','175','200'], y=df['decel'], name='Run ' + str(i+1))]\n",
    "\n",
    "plt_layout = go.Layout(title='Brake Efficacy', yaxis=dict(title='Deceleration'), xaxis=dict(title='Ground Speed'))\n",
    "fig = go.Figure(data=plt_data, layout=plt_layout)\n",
    "plotly.offline.plot(fig,filename='JupyterTres')"
   ]
  },
  {
   "cell_type": "markdown",
   "metadata": {},
   "source": [
    "Interestingly, run 4 has noticably reduced perfomance compared to run 3 at higher speeds. Run 6 was only slightly better than the two following runs. We can of course make the same plots for acceleration too. The bar chart below plots the average acceleration at each speed interval (i.e 0-25, 25-50 etc) when the throttle is at > 50%."
   ]
  },
  {
   "cell_type": "code",
   "execution_count": 17,
   "metadata": {},
   "outputs": [
    {
     "name": "stderr",
     "output_type": "stream",
     "text": [
      "/Library/Frameworks/Python.framework/Versions/3.7/lib/python3.7/site-packages/plotly/offline/offline.py:524: UserWarning:\n",
      "\n",
      "Your filename `JupyterQuatro` didn't end with .html. Adding .html to the end of your file.\n",
      "\n"
     ]
    },
    {
     "data": {
      "text/plain": [
       "'JupyterQuatro.html'"
      ]
     },
     "execution_count": 17,
     "metadata": {},
     "output_type": "execute_result"
    }
   ],
   "source": [
    "plt_data = []\n",
    "for i in range(len(dfs)):\n",
    "    df = dfs[i].loc[(dfs[i]['Throttle'] > 50)]\n",
    "    df = df.groupby(df['Ground Speed'] // 25).mean() #group the dataframe into splits of 25 km\n",
    "    plt_data += [go.Bar(x= ['25','50','75','100','125','150','175','200'], y=df['Vehicle Accel Long'], name='Run ' + str(i+1))]\n",
    "\n",
    "plt_layout = go.Layout(title='Acceleration at Different Speeds', yaxis=dict(title='Accel'), xaxis=dict(title='Ground Speed'))\n",
    "fig = go.Figure(data=plt_data, layout=plt_layout)\n",
    "plotly.offline.plot(fig,filename='JupyterQuatro')"
   ]
  },
  {
   "cell_type": "markdown",
   "metadata": {},
   "source": [
    "Judging from the above two graphs, the best performance out of all runs was \\#6. Of course, if you prefer a scatterplot, we can do that too! "
   ]
  },
  {
   "cell_type": "code",
   "execution_count": 18,
   "metadata": {},
   "outputs": [
    {
     "name": "stderr",
     "output_type": "stream",
     "text": [
      "/Library/Frameworks/Python.framework/Versions/3.7/lib/python3.7/site-packages/plotly/offline/offline.py:524: UserWarning:\n",
      "\n",
      "Your filename `JupyterCinco` didn't end with .html. Adding .html to the end of your file.\n",
      "\n"
     ]
    },
    {
     "data": {
      "text/plain": [
       "'JupyterCinco.html'"
      ]
     },
     "execution_count": 18,
     "metadata": {},
     "output_type": "execute_result"
    }
   ],
   "source": [
    "plt_data = []\n",
    "for i in range(len(dfs)):\n",
    "    df = dfs[i].loc[(dfs[i]['Ground Speed'] > 25) &(dfs[i]['Throttle'] > 50)]\n",
    "    plt_data += [go.Scatter(x=df['Throttle'], y=df['Vehicle Accel Long'],mode='markers',marker=dict(color=df['Ground Speed'], colorscale='Jet', showscale=True), visible=(True if i == 0 else False))]\n",
    "\n",
    "menu = list([ dict(active=0, buttons=[ dict(label = 'Run ' + str(i+1), method = 'update', args = [{'visible': [False if j != i else True for j in range(len(dfs))]}, {'title': 'Run '+str(i +1) + ' Acceleration'}]) for i in range(len(dfs))]\n",
    "                  ) ])\n",
    "plt_layout = go.Layout(title='Acceleration', yaxis=dict(title='Acceleration'), xaxis=dict(title='Throttle'), updatemenus=menu)\n",
    "fig = go.Figure(data=plt_data, layout=plt_layout)\n",
    "plotly.offline.plot(fig,filename='JupyterCinco')"
   ]
  },
  {
   "cell_type": "code",
   "execution_count": 19,
   "metadata": {},
   "outputs": [],
   "source": [
    "#we'll need this in a minute\n",
    "def closest(x, ng):\n",
    "    global last#badbadbadnotgood\n",
    "    if last < 0:\n",
    "        dist_lst = [distance(x, k) for k in corners]\n",
    "        if min(dist_lst) < ng:\n",
    "            last = int(np.argmin([distance(x, k) for k in corners]))\n",
    "            return last\n",
    "        else:\n",
    "            return  -1\n",
    "    else:\n",
    "        dist_lst =  [distance(x, corners[last]), distance(x, corners[(last+1) % len(corners)])]\n",
    "        if min(dist_lst) < ng:\n",
    "            last = (np.argmin(dist_lst) + last)%len(corners)\n",
    "            return last\n",
    "        else:\n",
    "            return -1\n",
    "#if you call this on a constant dataframe a black hole is formed   \n",
    "def normal(frame):\n",
    "    return (frame - frame.min()) / (frame.max() - frame.min())\n"
   ]
  },
  {
   "cell_type": "code",
   "execution_count": 20,
   "metadata": {
    "scrolled": false
   },
   "outputs": [
    {
     "name": "stderr",
     "output_type": "stream",
     "text": [
      "/Library/Frameworks/Python.framework/Versions/3.7/lib/python3.7/site-packages/plotly/offline/offline.py:524: UserWarning:\n",
      "\n",
      "Your filename `JupyterSeis` didn't end with .html. Adding .html to the end of your file.\n",
      "\n"
     ]
    },
    {
     "data": {
      "text/plain": [
       "'JupyterSeis.html'"
      ]
     },
     "execution_count": 20,
     "metadata": {},
     "output_type": "execute_result"
    }
   ],
   "source": [
    "corners = [(0.147,0.937),(0.11, 0.552), (0.264,0.531), (0.341,0.814), (0.406, 0.659), (0.589, 0.032), (0.756, 0.058),(0.588, 0.355), (0.770, 0.357), (0.902, 0.440)]\n",
    "df = pd.concat([d[300:-2000] for d in dfs[1:3]], ignore_index=True)\n",
    "df = smooth_points(df, 5)#too many points otherwise\n",
    "#Normalize the x, y coordinates\n",
    "df['x'] = normal(df['GPS Longitude'])\n",
    "df['y'] = normal(df['GPS Latitude'])\n",
    "last = 0\n",
    "df['close'] = df[['x','y']].apply(lambda x: closest( (x[0], x[1]), 0.1), axis=1)\n",
    "plt_data = [go.Scatter(x=df['x'], y=df['y'], mode='markers', marker=dict(color=df['close'], colorscale='Jet', showscale=True))]\n",
    "\n",
    "plt_layout = go.Layout(title='Speed Heat', yaxis=dict(title='y'), xaxis=dict(title='x'))\n",
    "fig = go.Figure(data=plt_data, layout=plt_layout)\n",
    "plotly.offline.plot(fig,filename='JupyterSeis')"
   ]
  },
  {
   "cell_type": "markdown",
   "metadata": {},
   "source": [
    "Crude, but workable. We can then average corner speed as follows. "
   ]
  },
  {
   "cell_type": "code",
   "execution_count": 21,
   "metadata": {},
   "outputs": [
    {
     "name": "stderr",
     "output_type": "stream",
     "text": [
      "/Library/Frameworks/Python.framework/Versions/3.7/lib/python3.7/site-packages/plotly/offline/offline.py:524: UserWarning:\n",
      "\n",
      "Your filename `JupyterSiete` didn't end with .html. Adding .html to the end of your file.\n",
      "\n"
     ]
    },
    {
     "data": {
      "text/plain": [
       "'JupyterSiete.html'"
      ]
     },
     "execution_count": 21,
     "metadata": {},
     "output_type": "execute_result"
    }
   ],
   "source": [
    "plt_data = []\n",
    "for i in range(len(dfs)):\n",
    "    df = dfs[i]\n",
    "    df['x'] = normal(df['GPS Longitude'])\n",
    "    df['y'] = normal(df['GPS Latitude'])\n",
    "    last = 0\n",
    "    df['close'] = df[['x','y']].apply(lambda x: closest( (x[0], x[1]), 0.1), axis=1).map(str)\n",
    "    plt_data += [go.Bar(x= [str(j) for j in range(len(corners) + 1)],y=df.groupby('close')['Ground Speed'].mean(), name = 'Run' +str(i))]\n",
    "\n",
    "plt_layout = go.Layout(title='Corner Speed', yaxis=dict(title='Speed km/h'), xaxis=dict(title='Corner'))\n",
    "fig = go.Figure(data=plt_data, layout=plt_layout)\n",
    "plotly.offline.plot(fig,filename='JupyterSiete')"
   ]
  },
  {
   "cell_type": "code",
   "execution_count": 22,
   "metadata": {
    "scrolled": false
   },
   "outputs": [
    {
     "name": "stderr",
     "output_type": "stream",
     "text": [
      "/Library/Frameworks/Python.framework/Versions/3.7/lib/python3.7/site-packages/plotly/offline/offline.py:524: UserWarning:\n",
      "\n",
      "Your filename `JupyterOcho` didn't end with .html. Adding .html to the end of your file.\n",
      "\n"
     ]
    },
    {
     "data": {
      "text/plain": [
       "'JupyterOcho.html'"
      ]
     },
     "execution_count": 22,
     "metadata": {},
     "output_type": "execute_result"
    }
   ],
   "source": [
    "plt_data = []\n",
    "for i in range(len(dfs)):\n",
    "    df = dfs[i]\n",
    "    X = normal(df['GPS Longitude'])\n",
    "    Y = normal(df['GPS Latitude'])\n",
    "    Z = df[['Susp Pos FL', 'Susp Pos RR']].mean(axis=1)\n",
    "    plt_data += [go.Scatter3d(x=X, y=Y, z=Z, mode='markers', marker=dict(size=5, color=df['Time'], colorscale='Viridis', showscale=True),visible=(True if i == 0 else False))]\n",
    "\n",
    "menu = list([ dict(active=0, buttons=[ dict(label = 'Run ' + str(i+1), method = 'update', args = [{'visible': [False if j != i else True for j in range(len(dfs))]}, {'title': 'Run '+str(i +1) + ' Suspension Position'}]) for i in range(len(dfs))]\n",
    "                  ) ])\n",
    "plt_layout = go.Layout(title='Suspension', yaxis=dict(title='GPS Latitude'), xaxis=dict(title='GPS Longitude'), updatemenus=menu)\n",
    "fig = go.Figure(data=plt_data, layout=plt_layout)\n",
    "plotly.offline.plot(fig,filename='JupyterOcho')"
   ]
  },
  {
   "cell_type": "markdown",
   "metadata": {},
   "source": [
    "This one is considerably harder to read, but provides some insight into the suspension performance throughout the runs. The color represents the time in seconds, with purple being the earliest to yellow the latest. The Z axis represents the average position of the Front Left and Rear Right suspension sensors. X and Y is of course the longitude and latitude. If you orbit to a top-down view, you can see the track layout. But from the sides, it is easy to see the points where the suspsension performance is relatively consistent, and others where it is more varied. I'll try to update this to look a little nicer when I have the chance."
   ]
  },
  {
   "cell_type": "code",
   "execution_count": null,
   "metadata": {},
   "outputs": [],
   "source": []
  }
 ],
 "metadata": {
  "kernelspec": {
   "display_name": "Python 3",
   "language": "python",
   "name": "python3"
  },
  "language_info": {
   "codemirror_mode": {
    "name": "ipython",
    "version": 3
   },
   "file_extension": ".py",
   "mimetype": "text/x-python",
   "name": "python",
   "nbconvert_exporter": "python",
   "pygments_lexer": "ipython3",
   "version": "3.7.2"
  }
 },
 "nbformat": 4,
 "nbformat_minor": 2
}
